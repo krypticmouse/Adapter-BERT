{
 "cells": [
  {
   "cell_type": "code",
   "execution_count": 59,
   "metadata": {},
   "outputs": [],
   "source": [
    "import pandas as pd\n",
    "\n",
    "data = pd.read_csv('raw/in_domain_dev.tsv', \n",
    "                                sep='\\t', \n",
    "                                names = [\"x\", \"label\", \"y\", \"sentence\"], \n",
    "                                header= None\n",
    ")[['label', 'sentence']]"
   ]
  },
  {
   "cell_type": "code",
   "execution_count": 72,
   "metadata": {},
   "outputs": [],
   "source": [
    "import torch\n",
    "import pandas as pd\n",
    "from torch.utils.data import Dataset\n",
    "\n",
    "class CoLADataset(Dataset):\n",
    "    def __init__(self, path, tokenizer):\n",
    "        self.data = pd.read_csv(path, \n",
    "                                sep='\\t', \n",
    "                                names = [\"x\", \"label\", \"y\", \"sentence\"], \n",
    "                                header= None\n",
    "        )[['label', 'sentence']]\n",
    "        self.tokenizer = tokenizer\n",
    "\n",
    "    def __len__(self):\n",
    "        return self.data.shape[0]\n",
    "\n",
    "    def __getitem__(self, idx):\n",
    "        data_pt = self.data.iloc[idx]\n",
    "\n",
    "        tokenized_sentence = self.tokenizer(data_pt['sentence'], return_tensors= 'pt')\n",
    "        label = torch.tensor(data_pt[\"label\"])\n",
    "\n",
    "        return {\n",
    "            \"label\": label, \n",
    "            \"sentence\": tokenized_sentence\n",
    "        }\n",
    "\n",
    "dataset = CoLADataset('raw/in_domain_dev.tsv', tokenizer)"
   ]
  },
  {
   "cell_type": "code",
   "execution_count": 73,
   "metadata": {},
   "outputs": [
    {
     "data": {
      "text/plain": [
       "{'input_ids': tensor([[  101,  1996,  6228, 10658, 23277,  8004, 11533,  2993,  6065,  1012,\n",
       "           102]]), 'token_type_ids': tensor([[0, 0, 0, 0, 0, 0, 0, 0, 0, 0, 0]]), 'attention_mask': tensor([[1, 1, 1, 1, 1, 1, 1, 1, 1, 1, 1]])}"
      ]
     },
     "execution_count": 73,
     "metadata": {},
     "output_type": "execute_result"
    }
   ],
   "source": [
    "dataset[2]['sentence']"
   ]
  },
  {
   "cell_type": "code",
   "execution_count": 85,
   "metadata": {},
   "outputs": [
    {
     "data": {
      "text/plain": [
       "tensor([[[ 0.0756, -0.0985,  0.0128,  ..., -0.0843,  0.0293,  0.6922],\n",
       "         [ 0.0442,  0.0417, -0.4450,  ...,  0.2266,  0.8602, -0.0695],\n",
       "         [ 0.7089,  0.3831, -0.0235,  ..., -0.2247,  0.8736,  0.1793],\n",
       "         ...,\n",
       "         [ 0.2031, -0.1015,  0.5362,  ...,  0.2164, -0.1809,  0.0601],\n",
       "         [ 0.9231,  0.3736, -0.4517,  ...,  0.3121, -0.2383, -0.4303],\n",
       "         [ 0.7308,  0.5111, -0.1045,  ...,  0.5012, -0.4107, -0.2019]]],\n",
       "       grad_fn=<NativeLayerNormBackward0>)"
      ]
     },
     "execution_count": 85,
     "metadata": {},
     "output_type": "execute_result"
    }
   ],
   "source": [
    "model(**dataset[2]['sentence'], output_hidden_states = True).hidden_states[-1]"
   ]
  },
  {
   "cell_type": "code",
   "execution_count": 66,
   "metadata": {},
   "outputs": [],
   "source": [
    "from transformers import BertModel"
   ]
  },
  {
   "cell_type": "code",
   "execution_count": 67,
   "metadata": {},
   "outputs": [
    {
     "name": "stderr",
     "output_type": "stream",
     "text": [
      "Some weights of the model checkpoint at bert-base-uncased were not used when initializing BertModel: ['cls.predictions.transform.LayerNorm.bias', 'cls.seq_relationship.weight', 'cls.predictions.transform.dense.weight', 'cls.predictions.transform.dense.bias', 'cls.predictions.transform.LayerNorm.weight', 'cls.seq_relationship.bias', 'cls.predictions.bias']\n",
      "- This IS expected if you are initializing BertModel from the checkpoint of a model trained on another task or with another architecture (e.g. initializing a BertForSequenceClassification model from a BertForPreTraining model).\n",
      "- This IS NOT expected if you are initializing BertModel from the checkpoint of a model that you expect to be exactly identical (initializing a BertForSequenceClassification model from a BertForSequenceClassification model).\n"
     ]
    }
   ],
   "source": [
    "model = BertModel.from_pretrained('bert-base-uncased')"
   ]
  },
  {
   "cell_type": "code",
   "execution_count": 41,
   "metadata": {},
   "outputs": [
    {
     "name": "stdout",
     "output_type": "stream",
     "text": [
      "[Linear(in_features=768, out_features=768, bias=True), <class 'model.AdapterModule'>, LayerNorm((768,), eps=1e-12, elementwise_affine=True), Dropout(p=0.1, inplace=False)]\n"
     ]
    }
   ],
   "source": [
    "for i in model.encoder.children():\n",
    "    for j in i.children():\n",
    "        attn = j.attention\n",
    "        inter = j.intermediate\n",
    "        output = j.output\n",
    "\n",
    "        attn = attn.output\n",
    "        layers = list(attn.children())\n",
    "        layers.insert(1, AdapterModule)\n",
    "        print(layers)\n",
    "        break\n",
    "    break"
   ]
  },
  {
   "cell_type": "code",
   "execution_count": 39,
   "metadata": {},
   "outputs": [],
   "source": [
    "from model import AdapterModule"
   ]
  },
  {
   "cell_type": "code",
   "execution_count": 42,
   "metadata": {},
   "outputs": [
    {
     "name": "stderr",
     "output_type": "stream",
     "text": [
      "Downloading (…)solve/main/vocab.txt: 100%|██████████| 232k/232k [00:01<00:00, 227kB/s]\n",
      "Downloading (…)okenizer_config.json: 100%|██████████| 28.0/28.0 [00:00<00:00, 10.9kB/s]\n"
     ]
    }
   ],
   "source": [
    "from transformers import BertTokenizer\n",
    "\n",
    "tokenizer = BertTokenizer.from_pretrained('bert-base-uncased')"
   ]
  },
  {
   "cell_type": "code",
   "execution_count": 63,
   "metadata": {},
   "outputs": [
    {
     "data": {
      "text/plain": [
       "{'input_ids': tensor([[ 101, 2023, 2003, 2204,  102]]), 'token_type_ids': tensor([[0, 0, 0, 0, 0]]), 'attention_mask': tensor([[1, 1, 1, 1, 1]])}"
      ]
     },
     "execution_count": 63,
     "metadata": {},
     "output_type": "execute_result"
    }
   ],
   "source": [
    "tokenizer('This is good')"
   ]
  },
  {
   "cell_type": "code",
   "execution_count": null,
   "metadata": {},
   "outputs": [],
   "source": []
  }
 ],
 "metadata": {
  "kernelspec": {
   "display_name": "Python 3",
   "language": "python",
   "name": "python3"
  },
  "language_info": {
   "codemirror_mode": {
    "name": "ipython",
    "version": 3
   },
   "file_extension": ".py",
   "mimetype": "text/x-python",
   "name": "python",
   "nbconvert_exporter": "python",
   "pygments_lexer": "ipython3",
   "version": "3.10.6"
  },
  "orig_nbformat": 4,
  "vscode": {
   "interpreter": {
    "hash": "e7370f93d1d0cde622a1f8e1c04877d8463912d04d973331ad4851f04de6915a"
   }
  }
 },
 "nbformat": 4,
 "nbformat_minor": 2
}

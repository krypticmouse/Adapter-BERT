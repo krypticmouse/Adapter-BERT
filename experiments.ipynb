{
 "cells": [
  {
   "cell_type": "code",
   "execution_count": 1,
   "metadata": {},
   "outputs": [
    {
     "name": "stderr",
     "output_type": "stream",
     "text": [
      "/home/krypticmouse/.local/lib/python3.10/site-packages/tqdm/auto.py:22: TqdmWarning: IProgress not found. Please update jupyter and ipywidgets. See https://ipywidgets.readthedocs.io/en/stable/user_install.html\n",
      "  from .autonotebook import tqdm as notebook_tqdm\n"
     ]
    }
   ],
   "source": [
    "from bert import BertModel"
   ]
  },
  {
   "cell_type": "code",
   "execution_count": 2,
   "metadata": {},
   "outputs": [
    {
     "name": "stderr",
     "output_type": "stream",
     "text": [
      "Some weights of the model checkpoint at bert-base-uncased were not used when initializing BertModel: ['cls.predictions.transform.dense.bias', 'cls.predictions.bias', 'cls.seq_relationship.weight', 'cls.predictions.transform.LayerNorm.bias', 'cls.seq_relationship.bias', 'cls.predictions.transform.LayerNorm.weight', 'cls.predictions.transform.dense.weight']\n",
      "- This IS expected if you are initializing BertModel from the checkpoint of a model trained on another task or with another architecture (e.g. initializing a BertForSequenceClassification model from a BertForPreTraining model).\n",
      "- This IS NOT expected if you are initializing BertModel from the checkpoint of a model that you expect to be exactly identical (initializing a BertForSequenceClassification model from a BertForSequenceClassification model).\n",
      "Some weights of BertModel were not initialized from the model checkpoint at bert-base-uncased and are newly initialized: ['bert.encoder.layer.1.attention.output.adapter.proj_down.bias', 'bert.encoder.layer.1.attention.output.adapter.proj_up.bias', 'bert.encoder.layer.4.attention.output.adapter.proj_down.weight', 'bert.encoder.layer.11.attention.output.adapter.proj_down.bias', 'bert.encoder.layer.2.output.adapter.proj_down.bias', 'bert.encoder.layer.10.output.adapter.proj_down.weight', 'bert.encoder.layer.10.output.adapter.proj_down.bias', 'bert.encoder.layer.3.output.adapter.proj_up.weight', 'bert.encoder.layer.5.output.adapter.proj_up.weight', 'bert.encoder.layer.4.attention.output.adapter.proj_up.weight', 'bert.encoder.layer.8.attention.output.adapter.proj_up.bias', 'bert.encoder.layer.11.output.adapter.proj_down.bias', 'bert.encoder.layer.10.output.adapter.proj_up.weight', 'bert.encoder.layer.5.output.adapter.proj_down.bias', 'bert.encoder.layer.0.output.adapter.proj_up.bias', 'bert.encoder.layer.3.attention.output.adapter.proj_down.weight', 'bert.encoder.layer.6.output.adapter.proj_up.bias', 'bert.encoder.layer.5.attention.output.adapter.proj_down.weight', 'bert.encoder.layer.1.attention.output.adapter.proj_up.weight', 'bert.encoder.layer.6.output.adapter.proj_down.weight', 'bert.encoder.layer.6.attention.output.adapter.proj_up.weight', 'bert.encoder.layer.4.output.adapter.proj_up.weight', 'bert.encoder.layer.6.output.adapter.proj_down.bias', 'bert.encoder.layer.8.attention.output.adapter.proj_down.bias', 'bert.encoder.layer.3.output.adapter.proj_down.bias', 'bert.encoder.layer.10.attention.output.adapter.proj_up.weight', 'bert.encoder.layer.2.attention.output.adapter.proj_down.bias', 'bert.encoder.layer.9.attention.output.adapter.proj_down.weight', 'bert.encoder.layer.8.attention.output.adapter.proj_down.weight', 'bert.encoder.layer.1.output.adapter.proj_up.weight', 'bert.encoder.layer.7.attention.output.adapter.proj_down.bias', 'bert.encoder.layer.10.attention.output.adapter.proj_up.bias', 'bert.encoder.layer.5.attention.output.adapter.proj_down.bias', 'bert.encoder.layer.1.attention.output.adapter.proj_down.weight', 'bert.encoder.layer.6.attention.output.adapter.proj_up.bias', 'bert.encoder.layer.4.attention.output.adapter.proj_up.bias', 'bert.encoder.layer.8.output.adapter.proj_down.bias', 'bert.encoder.layer.3.attention.output.adapter.proj_up.bias', 'bert.encoder.layer.3.output.adapter.proj_up.bias', 'bert.encoder.layer.4.output.adapter.proj_down.weight', 'bert.encoder.layer.6.attention.output.adapter.proj_down.weight', 'bert.encoder.layer.11.output.adapter.proj_up.weight', 'bert.encoder.layer.0.attention.output.adapter.proj_up.weight', 'bert.encoder.layer.11.output.adapter.proj_up.bias', 'bert.encoder.layer.2.attention.output.adapter.proj_up.bias', 'bert.encoder.layer.11.attention.output.adapter.proj_up.bias', 'bert.encoder.layer.0.output.adapter.proj_up.weight', 'bert.encoder.layer.7.attention.output.adapter.proj_up.bias', 'bert.encoder.layer.3.attention.output.adapter.proj_up.weight', 'bert.encoder.layer.5.attention.output.adapter.proj_up.weight', 'bert.encoder.layer.4.output.adapter.proj_down.bias', 'bert.encoder.layer.9.attention.output.adapter.proj_up.weight', 'bert.encoder.layer.4.output.adapter.proj_up.bias', 'bert.encoder.layer.10.output.adapter.proj_up.bias', 'bert.encoder.layer.9.attention.output.adapter.proj_down.bias', 'bert.encoder.layer.0.output.adapter.proj_down.weight', 'bert.encoder.layer.7.output.adapter.proj_up.weight', 'bert.encoder.layer.8.output.adapter.proj_up.bias', 'bert.encoder.layer.2.output.adapter.proj_down.weight', 'bert.encoder.layer.3.attention.output.adapter.proj_down.bias', 'bert.encoder.layer.7.attention.output.adapter.proj_up.weight', 'bert.encoder.layer.7.output.adapter.proj_down.bias', 'bert.encoder.layer.10.attention.output.adapter.proj_down.bias', 'bert.encoder.layer.3.output.adapter.proj_down.weight', 'bert.encoder.layer.7.attention.output.adapter.proj_down.weight', 'bert.encoder.layer.8.attention.output.adapter.proj_up.weight', 'bert.encoder.layer.8.output.adapter.proj_up.weight', 'bert.encoder.layer.0.attention.output.adapter.proj_down.bias', 'bert.encoder.layer.1.output.adapter.proj_down.weight', 'bert.encoder.layer.2.attention.output.adapter.proj_up.weight', 'bert.encoder.layer.7.output.adapter.proj_up.bias', 'bert.encoder.layer.11.attention.output.adapter.proj_up.weight', 'bert.encoder.layer.7.output.adapter.proj_down.weight', 'bert.encoder.layer.6.output.adapter.proj_up.weight', 'bert.encoder.layer.5.output.adapter.proj_down.weight', 'bert.encoder.layer.11.output.adapter.proj_down.weight', 'bert.encoder.layer.9.output.adapter.proj_up.bias', 'bert.encoder.layer.2.output.adapter.proj_up.bias', 'bert.encoder.layer.5.attention.output.adapter.proj_up.bias', 'bert.encoder.layer.6.attention.output.adapter.proj_down.bias', 'bert.encoder.layer.10.attention.output.adapter.proj_down.weight', 'bert.encoder.layer.1.output.adapter.proj_down.bias', 'bert.encoder.layer.1.output.adapter.proj_up.bias', 'bert.encoder.layer.0.output.adapter.proj_down.bias', 'bert.encoder.layer.9.output.adapter.proj_up.weight', 'bert.encoder.layer.0.attention.output.adapter.proj_down.weight', 'bert.encoder.layer.2.attention.output.adapter.proj_down.weight', 'bert.encoder.layer.5.output.adapter.proj_up.bias', 'bert.encoder.layer.9.attention.output.adapter.proj_up.bias', 'bert.encoder.layer.8.output.adapter.proj_down.weight', 'bert.encoder.layer.9.output.adapter.proj_down.weight', 'bert.encoder.layer.4.attention.output.adapter.proj_down.bias', 'bert.encoder.layer.11.attention.output.adapter.proj_down.weight', 'bert.encoder.layer.0.attention.output.adapter.proj_up.bias', 'bert.encoder.layer.2.output.adapter.proj_up.weight', 'bert.encoder.layer.9.output.adapter.proj_down.bias']\n",
      "You should probably TRAIN this model on a down-stream task to be able to use it for predictions and inference.\n"
     ]
    }
   ],
   "source": [
    "model = BertModel.from_pretrained('bert-base-uncased')"
   ]
  },
  {
   "cell_type": "code",
   "execution_count": 3,
   "metadata": {},
   "outputs": [],
   "source": [
    "from dataset import CoLADataset\n",
    "from transformers import BertTokenizer\n",
    "\n",
    "tokenizer = BertTokenizer.from_pretrained('bert-base-uncased')"
   ]
  },
  {
   "cell_type": "code",
   "execution_count": 4,
   "metadata": {},
   "outputs": [],
   "source": [
    "data = CoLADataset('raw/in_domain_train.tsv', tokenizer)"
   ]
  },
  {
   "cell_type": "code",
   "execution_count": 10,
   "metadata": {},
   "outputs": [
    {
     "data": {
      "text/plain": [
       "tensor([[[ 0.4008,  0.1898,  0.1470,  ..., -0.3015,  0.2269,  0.5410],\n",
       "         [ 0.5970, -0.0165, -0.3991,  ..., -0.1948,  0.8729,  0.5442],\n",
       "         [ 0.4604, -0.0840,  0.1409,  ..., -0.4918, -0.1896,  0.1967],\n",
       "         ...,\n",
       "         [ 0.5255,  0.3843, -0.0321,  ..., -0.4043,  0.2398,  0.4467],\n",
       "         [ 0.6178,  0.3638,  0.4818,  ...,  0.2736, -0.7449, -0.4608],\n",
       "         [ 0.1716,  0.4733,  0.6120,  ..., -0.1511, -0.2494,  0.1768]]],\n",
       "       grad_fn=<NativeLayerNormBackward0>)"
      ]
     },
     "execution_count": 10,
     "metadata": {},
     "output_type": "execute_result"
    }
   ],
   "source": [
    "model(**data[0]['sentence'], output_hidden_states=True).hidden_states[-1]"
   ]
  },
  {
   "cell_type": "code",
   "execution_count": 13,
   "metadata": {},
   "outputs": [
    {
     "data": {
      "text/plain": [
       "torch.Size([768])"
      ]
     },
     "execution_count": 13,
     "metadata": {},
     "output_type": "execute_result"
    }
   ],
   "source": [
    "model(**data[0]['sentence']).last_hidden_state[0,0,:].shape"
   ]
  },
  {
   "cell_type": "code",
   "execution_count": 32,
   "metadata": {},
   "outputs": [
    {
     "data": {
      "text/plain": [
       "['embeddings.LayerNorm.weight',\n",
       " 'embeddings.LayerNorm.bias',\n",
       " 'encoder.layer.0.attention.output.LayerNorm.weight',\n",
       " 'encoder.layer.0.attention.output.LayerNorm.bias',\n",
       " 'encoder.layer.0.attention.output.adapter.proj_down.weight',\n",
       " 'encoder.layer.0.attention.output.adapter.proj_down.bias',\n",
       " 'encoder.layer.0.attention.output.adapter.proj_up.weight',\n",
       " 'encoder.layer.0.attention.output.adapter.proj_up.bias',\n",
       " 'encoder.layer.0.output.LayerNorm.weight',\n",
       " 'encoder.layer.0.output.LayerNorm.bias',\n",
       " 'encoder.layer.0.output.adapter.proj_down.weight',\n",
       " 'encoder.layer.0.output.adapter.proj_down.bias',\n",
       " 'encoder.layer.0.output.adapter.proj_up.weight',\n",
       " 'encoder.layer.0.output.adapter.proj_up.bias',\n",
       " 'encoder.layer.1.attention.output.LayerNorm.weight',\n",
       " 'encoder.layer.1.attention.output.LayerNorm.bias',\n",
       " 'encoder.layer.1.attention.output.adapter.proj_down.weight',\n",
       " 'encoder.layer.1.attention.output.adapter.proj_down.bias',\n",
       " 'encoder.layer.1.attention.output.adapter.proj_up.weight',\n",
       " 'encoder.layer.1.attention.output.adapter.proj_up.bias',\n",
       " 'encoder.layer.1.output.LayerNorm.weight',\n",
       " 'encoder.layer.1.output.LayerNorm.bias',\n",
       " 'encoder.layer.1.output.adapter.proj_down.weight',\n",
       " 'encoder.layer.1.output.adapter.proj_down.bias',\n",
       " 'encoder.layer.1.output.adapter.proj_up.weight',\n",
       " 'encoder.layer.1.output.adapter.proj_up.bias',\n",
       " 'encoder.layer.2.attention.output.LayerNorm.weight',\n",
       " 'encoder.layer.2.attention.output.LayerNorm.bias',\n",
       " 'encoder.layer.2.attention.output.adapter.proj_down.weight',\n",
       " 'encoder.layer.2.attention.output.adapter.proj_down.bias',\n",
       " 'encoder.layer.2.attention.output.adapter.proj_up.weight',\n",
       " 'encoder.layer.2.attention.output.adapter.proj_up.bias',\n",
       " 'encoder.layer.2.output.LayerNorm.weight',\n",
       " 'encoder.layer.2.output.LayerNorm.bias',\n",
       " 'encoder.layer.2.output.adapter.proj_down.weight',\n",
       " 'encoder.layer.2.output.adapter.proj_down.bias',\n",
       " 'encoder.layer.2.output.adapter.proj_up.weight',\n",
       " 'encoder.layer.2.output.adapter.proj_up.bias',\n",
       " 'encoder.layer.3.attention.output.LayerNorm.weight',\n",
       " 'encoder.layer.3.attention.output.LayerNorm.bias',\n",
       " 'encoder.layer.3.attention.output.adapter.proj_down.weight',\n",
       " 'encoder.layer.3.attention.output.adapter.proj_down.bias',\n",
       " 'encoder.layer.3.attention.output.adapter.proj_up.weight',\n",
       " 'encoder.layer.3.attention.output.adapter.proj_up.bias',\n",
       " 'encoder.layer.3.output.LayerNorm.weight',\n",
       " 'encoder.layer.3.output.LayerNorm.bias',\n",
       " 'encoder.layer.3.output.adapter.proj_down.weight',\n",
       " 'encoder.layer.3.output.adapter.proj_down.bias',\n",
       " 'encoder.layer.3.output.adapter.proj_up.weight',\n",
       " 'encoder.layer.3.output.adapter.proj_up.bias',\n",
       " 'encoder.layer.4.attention.output.LayerNorm.weight',\n",
       " 'encoder.layer.4.attention.output.LayerNorm.bias',\n",
       " 'encoder.layer.4.attention.output.adapter.proj_down.weight',\n",
       " 'encoder.layer.4.attention.output.adapter.proj_down.bias',\n",
       " 'encoder.layer.4.attention.output.adapter.proj_up.weight',\n",
       " 'encoder.layer.4.attention.output.adapter.proj_up.bias',\n",
       " 'encoder.layer.4.output.LayerNorm.weight',\n",
       " 'encoder.layer.4.output.LayerNorm.bias',\n",
       " 'encoder.layer.4.output.adapter.proj_down.weight',\n",
       " 'encoder.layer.4.output.adapter.proj_down.bias',\n",
       " 'encoder.layer.4.output.adapter.proj_up.weight',\n",
       " 'encoder.layer.4.output.adapter.proj_up.bias',\n",
       " 'encoder.layer.5.attention.output.LayerNorm.weight',\n",
       " 'encoder.layer.5.attention.output.LayerNorm.bias',\n",
       " 'encoder.layer.5.attention.output.adapter.proj_down.weight',\n",
       " 'encoder.layer.5.attention.output.adapter.proj_down.bias',\n",
       " 'encoder.layer.5.attention.output.adapter.proj_up.weight',\n",
       " 'encoder.layer.5.attention.output.adapter.proj_up.bias',\n",
       " 'encoder.layer.5.output.LayerNorm.weight',\n",
       " 'encoder.layer.5.output.LayerNorm.bias',\n",
       " 'encoder.layer.5.output.adapter.proj_down.weight',\n",
       " 'encoder.layer.5.output.adapter.proj_down.bias',\n",
       " 'encoder.layer.5.output.adapter.proj_up.weight',\n",
       " 'encoder.layer.5.output.adapter.proj_up.bias',\n",
       " 'encoder.layer.6.attention.output.LayerNorm.weight',\n",
       " 'encoder.layer.6.attention.output.LayerNorm.bias',\n",
       " 'encoder.layer.6.attention.output.adapter.proj_down.weight',\n",
       " 'encoder.layer.6.attention.output.adapter.proj_down.bias',\n",
       " 'encoder.layer.6.attention.output.adapter.proj_up.weight',\n",
       " 'encoder.layer.6.attention.output.adapter.proj_up.bias',\n",
       " 'encoder.layer.6.output.LayerNorm.weight',\n",
       " 'encoder.layer.6.output.LayerNorm.bias',\n",
       " 'encoder.layer.6.output.adapter.proj_down.weight',\n",
       " 'encoder.layer.6.output.adapter.proj_down.bias',\n",
       " 'encoder.layer.6.output.adapter.proj_up.weight',\n",
       " 'encoder.layer.6.output.adapter.proj_up.bias',\n",
       " 'encoder.layer.7.attention.output.LayerNorm.weight',\n",
       " 'encoder.layer.7.attention.output.LayerNorm.bias',\n",
       " 'encoder.layer.7.attention.output.adapter.proj_down.weight',\n",
       " 'encoder.layer.7.attention.output.adapter.proj_down.bias',\n",
       " 'encoder.layer.7.attention.output.adapter.proj_up.weight',\n",
       " 'encoder.layer.7.attention.output.adapter.proj_up.bias',\n",
       " 'encoder.layer.7.output.LayerNorm.weight',\n",
       " 'encoder.layer.7.output.LayerNorm.bias',\n",
       " 'encoder.layer.7.output.adapter.proj_down.weight',\n",
       " 'encoder.layer.7.output.adapter.proj_down.bias',\n",
       " 'encoder.layer.7.output.adapter.proj_up.weight',\n",
       " 'encoder.layer.7.output.adapter.proj_up.bias',\n",
       " 'encoder.layer.8.attention.output.LayerNorm.weight',\n",
       " 'encoder.layer.8.attention.output.LayerNorm.bias',\n",
       " 'encoder.layer.8.attention.output.adapter.proj_down.weight',\n",
       " 'encoder.layer.8.attention.output.adapter.proj_down.bias',\n",
       " 'encoder.layer.8.attention.output.adapter.proj_up.weight',\n",
       " 'encoder.layer.8.attention.output.adapter.proj_up.bias',\n",
       " 'encoder.layer.8.output.LayerNorm.weight',\n",
       " 'encoder.layer.8.output.LayerNorm.bias',\n",
       " 'encoder.layer.8.output.adapter.proj_down.weight',\n",
       " 'encoder.layer.8.output.adapter.proj_down.bias',\n",
       " 'encoder.layer.8.output.adapter.proj_up.weight',\n",
       " 'encoder.layer.8.output.adapter.proj_up.bias',\n",
       " 'encoder.layer.9.attention.output.LayerNorm.weight',\n",
       " 'encoder.layer.9.attention.output.LayerNorm.bias',\n",
       " 'encoder.layer.9.attention.output.adapter.proj_down.weight',\n",
       " 'encoder.layer.9.attention.output.adapter.proj_down.bias',\n",
       " 'encoder.layer.9.attention.output.adapter.proj_up.weight',\n",
       " 'encoder.layer.9.attention.output.adapter.proj_up.bias',\n",
       " 'encoder.layer.9.output.LayerNorm.weight',\n",
       " 'encoder.layer.9.output.LayerNorm.bias',\n",
       " 'encoder.layer.9.output.adapter.proj_down.weight',\n",
       " 'encoder.layer.9.output.adapter.proj_down.bias',\n",
       " 'encoder.layer.9.output.adapter.proj_up.weight',\n",
       " 'encoder.layer.9.output.adapter.proj_up.bias',\n",
       " 'encoder.layer.10.attention.output.LayerNorm.weight',\n",
       " 'encoder.layer.10.attention.output.LayerNorm.bias',\n",
       " 'encoder.layer.10.attention.output.adapter.proj_down.weight',\n",
       " 'encoder.layer.10.attention.output.adapter.proj_down.bias',\n",
       " 'encoder.layer.10.attention.output.adapter.proj_up.weight',\n",
       " 'encoder.layer.10.attention.output.adapter.proj_up.bias',\n",
       " 'encoder.layer.10.output.LayerNorm.weight',\n",
       " 'encoder.layer.10.output.LayerNorm.bias',\n",
       " 'encoder.layer.10.output.adapter.proj_down.weight',\n",
       " 'encoder.layer.10.output.adapter.proj_down.bias',\n",
       " 'encoder.layer.10.output.adapter.proj_up.weight',\n",
       " 'encoder.layer.10.output.adapter.proj_up.bias',\n",
       " 'encoder.layer.11.attention.output.LayerNorm.weight',\n",
       " 'encoder.layer.11.attention.output.LayerNorm.bias',\n",
       " 'encoder.layer.11.attention.output.adapter.proj_down.weight',\n",
       " 'encoder.layer.11.attention.output.adapter.proj_down.bias',\n",
       " 'encoder.layer.11.attention.output.adapter.proj_up.weight',\n",
       " 'encoder.layer.11.attention.output.adapter.proj_up.bias',\n",
       " 'encoder.layer.11.output.LayerNorm.weight',\n",
       " 'encoder.layer.11.output.LayerNorm.bias',\n",
       " 'encoder.layer.11.output.adapter.proj_down.weight',\n",
       " 'encoder.layer.11.output.adapter.proj_down.bias',\n",
       " 'encoder.layer.11.output.adapter.proj_up.weight',\n",
       " 'encoder.layer.11.output.adapter.proj_up.bias']"
      ]
     },
     "execution_count": 32,
     "metadata": {},
     "output_type": "execute_result"
    }
   ],
   "source": []
  },
  {
   "cell_type": "code",
   "execution_count": 20,
   "metadata": {},
   "outputs": [
    {
     "data": {
      "text/plain": [
       "<generator object Module.named_parameters at 0x7f77a9dd9fc0>"
      ]
     },
     "execution_count": 20,
     "metadata": {},
     "output_type": "execute_result"
    }
   ],
   "source": [
    "model.named_parameters()"
   ]
  },
  {
   "cell_type": "code",
   "execution_count": null,
   "metadata": {},
   "outputs": [],
   "source": []
  }
 ],
 "metadata": {
  "kernelspec": {
   "display_name": "Python 3",
   "language": "python",
   "name": "python3"
  },
  "language_info": {
   "codemirror_mode": {
    "name": "ipython",
    "version": 3
   },
   "file_extension": ".py",
   "mimetype": "text/x-python",
   "name": "python",
   "nbconvert_exporter": "python",
   "pygments_lexer": "ipython3",
   "version": "3.10.6"
  },
  "orig_nbformat": 4,
  "vscode": {
   "interpreter": {
    "hash": "e7370f93d1d0cde622a1f8e1c04877d8463912d04d973331ad4851f04de6915a"
   }
  }
 },
 "nbformat": 4,
 "nbformat_minor": 2
}
